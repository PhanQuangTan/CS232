{
  "nbformat": 4,
  "nbformat_minor": 0,
  "metadata": {
    "colab": {
      "name": "Untitled9.ipynb",
      "provenance": [],
      "mount_file_id": "1D6ujWTaWe_Obu1qVLAvxztw007hIxqZ2",
      "authorship_tag": "ABX9TyNGnfGGciB/BdTR3dxCyAJj",
      "include_colab_link": true
    },
    "kernelspec": {
      "name": "python3",
      "display_name": "Python 3"
    }
  },
  "cells": [
    {
      "cell_type": "markdown",
      "metadata": {
        "id": "view-in-github",
        "colab_type": "text"
      },
      "source": [
        "<a href=\"https://colab.research.google.com/github/PhanQuangTan/CS232/blob/master/Untitled9.ipynb\" target=\"_parent\"><img src=\"https://colab.research.google.com/assets/colab-badge.svg\" alt=\"Open In Colab\"/></a>"
      ]
    },
    {
      "cell_type": "code",
      "metadata": {
        "id": "a9Upp8pc7eXs",
        "colab_type": "code",
        "colab": {}
      },
      "source": [
        "import requests\n",
        "from bs4 import BeautifulSoup"
      ],
      "execution_count": 5,
      "outputs": []
    },
    {
      "cell_type": "code",
      "metadata": {
        "id": "vQbu8egY9Goa",
        "colab_type": "code",
        "colab": {}
      },
      "source": [
        "import io"
      ],
      "execution_count": null,
      "outputs": []
    },
    {
      "cell_type": "code",
      "metadata": {
        "id": "S3fgM8sO-H5q",
        "colab_type": "code",
        "colab": {}
      },
      "source": [
        "import os"
      ],
      "execution_count": 19,
      "outputs": []
    },
    {
      "cell_type": "code",
      "metadata": {
        "id": "Vgp7lGdV95R3",
        "colab_type": "code",
        "colab": {}
      },
      "source": [
        "from PIL import Image"
      ],
      "execution_count": 17,
      "outputs": []
    },
    {
      "cell_type": "code",
      "metadata": {
        "id": "CE0zcKIg_JZo",
        "colab_type": "code",
        "colab": {}
      },
      "source": [
        "import hashlib"
      ],
      "execution_count": 22,
      "outputs": []
    },
    {
      "cell_type": "code",
      "metadata": {
        "id": "t3FAYhaY7Xe7",
        "colab_type": "code",
        "colab": {
          "base_uri": "https://localhost:8080/",
          "height": 35
        },
        "outputId": "cd9b81c9-672b-4975-e039-0ca04b24f37a"
      },
      "source": [
        "url = 'https://nhansamnhunghuou.com/wp-content/uploads/phong-ngu-lon-xon.jpg'\n",
        "folder_path = '/content'\n",
        "image_content = requests.get(url).content\n",
        "image_file = io.BytesIO(image_content)\n",
        "image = Image.open(image_file).convert('RGB')\n",
        "file_path = os.path.join(folder_path,hashlib.sha1(image_content).hexdigest()[:10] + '.jpg')\n",
        "with open(file_path, 'wb') as f:\n",
        "    image.save(f, \"JPEG\", quality=85)\n",
        "print(f\"SUCCESS - saved {url} - as {file_path}\")"
      ],
      "execution_count": 23,
      "outputs": [
        {
          "output_type": "stream",
          "text": [
            "SUCCESS - saved https://nhansamnhunghuou.com/wp-content/uploads/phong-ngu-lon-xon.jpg - as /content/f17e700fd8.jpg\n"
          ],
          "name": "stdout"
        }
      ]
    }
  ]
}